{
 "cells": [
  {
   "attachments": {},
   "cell_type": "markdown",
   "metadata": {},
   "source": [
    "## 1.使用逻辑回归对手写数字进行分类"
   ]
  },
  {
   "cell_type": "code",
   "execution_count": 1,
   "metadata": {},
   "outputs": [],
   "source": [
    "import numpy as np\n",
    "import scipy.io as sio\n",
    "import matplotlib.pyplot as plt\n",
    "from sklearn import svm\n",
    "import pandas as pd\n",
    "from sklearn.preprocessing import MinMaxScaler\n",
    "from sklearn.model_selection import train_test_split"
   ]
  },
  {
   "attachments": {},
   "cell_type": "markdown",
   "metadata": {},
   "source": [
    "## 2.数据预处理"
   ]
  },
  {
   "cell_type": "code",
   "execution_count": 2,
   "metadata": {},
   "outputs": [],
   "source": [
    "# 加载数据X.mat和Y.mat\n",
    "# X.mat是一个矩阵，每一行是一个样本，每一列是一个特征\n",
    "# Y.mat是一个矩阵，每一行是一个样本，每一列是一个标签\n",
    "\n",
    "\n",
    "\n",
    "\n",
    "# 加载数据\n",
    "data_x = sio.loadmat('X.mat')\n",
    "X = data_x['X']\n",
    "data_y = sio.loadmat('Y.mat')\n",
    "Y = data_y['Y']\n",
    "Y = Y[0]\n",
    "\n",
    "# 转换成dataframe\n",
    "X = pd.DataFrame(X)\n",
    "\n",
    "# 缺失值处理drop\n",
    "X = X.dropna(axis=1, how='any')\n",
    "\n",
    "# 数据归一化\n",
    "scaler = MinMaxScaler()\n",
    "X = scaler.fit_transform(X)\n"
   ]
  },
  {
   "attachments": {},
   "cell_type": "markdown",
   "metadata": {},
   "source": [
    "## 3.划分训练集和测试集"
   ]
  },
  {
   "cell_type": "code",
   "execution_count": 3,
   "metadata": {},
   "outputs": [],
   "source": [
    "train_x, test_x, train_y, test_y = train_test_split(X, Y, test_size=0.2, random_state=2023)"
   ]
  },
  {
   "cell_type": "code",
   "execution_count": 4,
   "metadata": {},
   "outputs": [
    {
     "name": "stdout",
     "output_type": "stream",
     "text": [
      "训练集样本数： 1437\n",
      "测试集样本数： 360\n"
     ]
    }
   ],
   "source": [
    "print('训练集样本数：', train_x.shape[0])\n",
    "print('测试集样本数：', test_x.shape[0])\n"
   ]
  },
  {
   "attachments": {},
   "cell_type": "markdown",
   "metadata": {},
   "source": [
    "## 4.训练模型"
   ]
  },
  {
   "cell_type": "code",
   "execution_count": 5,
   "metadata": {},
   "outputs": [
    {
     "name": "stdout",
     "output_type": "stream",
     "text": [
      "sklearn逻辑回归准确率： 0.9777777777777777\n"
     ]
    }
   ],
   "source": [
    "# 使用逻辑回归对手写数字进行分类\n",
    "from sklearn.linear_model import LogisticRegression\n",
    "\n",
    "\n",
    "# 创建逻辑回归模型\n",
    "lr = LogisticRegression(max_iter=1000)\n",
    "\n",
    "# 训练模型\n",
    "lr.fit(train_x, train_y)\n",
    "\n",
    "# 预测\n",
    "y_pred = lr.predict(test_x)\n",
    "\n",
    "# 计算准确率\n",
    "from sklearn.metrics import accuracy_score\n",
    "\n",
    "print('sklearn逻辑回归准确率：', accuracy_score(test_y, y_pred))\n",
    "\n",
    "\n"
   ]
  },
  {
   "cell_type": "code",
   "execution_count": 6,
   "metadata": {},
   "outputs": [
    {
     "name": "stdout",
     "output_type": "stream",
     "text": [
      "手写逻辑回归准确率： 0.08333333333333333\n"
     ]
    }
   ],
   "source": [
    "# 手写逻辑回归\n",
    "class MyLogisticRegression:\n",
    "    # 初始化, learning_rate学习率，max_iter最大迭代次数\n",
    "    def __init__(self, learning_rate=0.01, max_iter=1000):\n",
    "        self.learning_rate = learning_rate\n",
    "        self.max_iter = max_iter\n",
    "\n",
    "    # sigmoid函数\n",
    "    def sigmoid(self, x):\n",
    "        return 1 / (1 + np.exp(-x))\n",
    "\n",
    "    def fit(self, X, y):\n",
    "        # 初始化参数\n",
    "        self.w = np.zeros(X.shape[1])\n",
    "        self.b = 0\n",
    "\n",
    "        # 迭代更新参数\n",
    "        for i in range(self.max_iter):\n",
    "            # 计算梯度\n",
    "            y_hat = self.sigmoid(np.dot(X, self.w) + self.b)\n",
    "            dw = np.dot(X.T, y_hat - y) / X.shape[0]\n",
    "            db = np.sum(y_hat - y) / X.shape[0]\n",
    "\n",
    "            # 更新参数\n",
    "            self.w = self.w - self.learning_rate * dw\n",
    "            self.b = self.b - self.learning_rate * db\n",
    "\n",
    "    def predict(self, X):\n",
    "        y_hat = self.sigmoid(np.dot(X, self.w) + self.b)\n",
    "        y_pred = np.where(y_hat > 0.5, 1, 0)\n",
    "        return y_pred\n",
    "\n",
    "mylr = MyLogisticRegression()\n",
    "mylr.fit(train_x, train_y)\n",
    "y_pred = mylr.predict(test_x)\n",
    "print('手写逻辑回归准确率：', accuracy_score(test_y, y_pred))"
   ]
  },
  {
   "attachments": {},
   "cell_type": "markdown",
   "metadata": {},
   "source": [
    "## 5.模型评估"
   ]
  },
  {
   "cell_type": "code",
   "execution_count": 7,
   "metadata": {},
   "outputs": [
    {
     "name": "stdout",
     "output_type": "stream",
     "text": [
      "训练集准确率： 0.9826026443980515\n",
      "测试集准确率： 0.9777777777777777\n"
     ]
    }
   ],
   "source": [
    "# 性能度量指标选择准确率、召回率、F1值、ROC曲线、AUC值\n",
    "# 准确率：预测正确的样本数/总样本数\n",
    "\n",
    "\n",
    "# 逻辑回归的性能度量指标\n",
    "from sklearn.metrics import accuracy_score, recall_score, f1_score\n",
    "\n",
    "# 训练集上的预测\n",
    "train_y_pred = lr.predict(train_x)\n",
    "# 测试集上的预测\n",
    "test_y_pred = lr.predict(test_x)\n",
    "\n",
    "# 计算准确率\n",
    "print(\"训练集准确率：\", accuracy_score(train_y, train_y_pred))\n",
    "print(\"测试集准确率：\", accuracy_score(test_y, test_y_pred))\n",
    "\n"
   ]
  },
  {
   "attachments": {},
   "cell_type": "markdown",
   "metadata": {},
   "source": [
    "## 6.结果可视化"
   ]
  },
  {
   "cell_type": "code",
   "execution_count": 8,
   "metadata": {},
   "outputs": [
    {
     "data": {
      "image/png": "[encoded data removed]",
      "text/plain": [
       "<Figure size 480x480 with 2 Axes>"
      ]
     },
     "metadata": {},
     "output_type": "display_data"
    }
   ],
   "source": [
    "# 画出混淆矩阵\n",
    "from sklearn.metrics import confusion_matrix\n",
    "\n",
    "\n",
    "y_pred = lr.predict(test_x)\n",
    "\n",
    "# 计算混淆矩阵\n",
    "cm = confusion_matrix(test_y, y_pred)\n",
    "\n",
    "# 画出混淆矩阵\n",
    "plt.matshow(cm, cmap=plt.cm.Blues)\n",
    "plt.colorbar()\n",
    "# 添加数字标签\n",
    "for x in range(cm.shape[0]):\n",
    "    for y in range(cm.shape[1]):\n",
    "        plt.annotate(cm[x, y], xy=(x, y), horizontalalignment='center', verticalalignment='center')\n",
    "plt.ylabel('True label')\n",
    "plt.xlabel('Predicted label')\n",
    "plt.show()\n",
    "\n"
   ]
  },
  {
   "attachments": {},
   "cell_type": "markdown",
   "metadata": {},
   "source": [
    "## 其他可视化"
   ]
  },
  {
   "cell_type": "code",
   "execution_count": 23,
   "metadata": {},
   "outputs": [
    {
     "data": {
      "text/plain": [
       "<matplotlib.image.AxesImage at 0x7fcee00490a0>"
      ]
     },
     "execution_count": 23,
     "metadata": {},
     "output_type": "execute_result"
    },
    {
     "data": {
      "image/png": "[encoded data removed]",
      "text/plain": [
       "<Figure size 640x480 with 1 Axes>"
      ]
     },
     "metadata": {},
     "output_type": "display_data"
    }
   ],
   "source": [
    "# 查看第一个数据的图像\n",
    "plt.imshow(X[0].reshape(8, 8), cmap=plt.cm.gray_r, interpolation='nearest')"
   ]
  },
  {
   "cell_type": "code",
   "execution_count": 24,
   "metadata": {},
   "outputs": [
    {
     "data": {
      "text/plain": [
       "<matplotlib.image.AxesImage at 0x7fcec9e492e0>"
      ]
     },
     "execution_count": 24,
     "metadata": {},
     "output_type": "execute_result"
    },
    {
     "data": {
      "image/png": "[encoded data removed]",
      "text/plain": [
       "<Figure size 640x480 with 1 Axes>"
      ]
     },
     "metadata": {},
     "output_type": "display_data"
    }
   ],
   "source": [
    "# 查看第二个数据的图像\n",
    "plt.imshow(X[1].reshape(8, 8), cmap=plt.cm.gray_r, interpolation='nearest')"
   ]
  },
  {
   "cell_type": "code",
   "execution_count": 26,
   "metadata": {},
   "outputs": [
    {
     "name": "stdout",
     "output_type": "stream",
     "text": [
      "[5]\n"
     ]
    },
    {
     "data": {
      "image/png": "[encoded data removed]",
      "text/plain": [
       "<Figure size 640x480 with 1 Axes>"
      ]
     },
     "metadata": {},
     "output_type": "display_data"
    }
   ],
   "source": [
    "# 查看测试集中第一个数据的图像\n",
    "plt.imshow(test_x[0].reshape(8, 8), cmap=plt.cm.gray_r, interpolation='nearest')\n",
    "\n",
    "# 对测试集中第一个数据进行预测\n",
    "pred = lr.predict(test_x[0].reshape(1, -1))\n",
    "print(pred)"
   ]
  },
  {
   "cell_type": "code",
   "execution_count": null,
   "metadata": {},
   "outputs": [],
   "source": [
    "# "
   ]
  }
 ],
 "metadata": {
  "kernelspec": {
   "display_name": "drlor",
   "language": "python",
   "name": "python3"
  },
  "language_info": {
   "codemirror_mode": {
    "name": "ipython",
    "version": 3
   },
   "file_extension": ".py",
   "mimetype": "text/x-python",
   "name": "python",
   "nbconvert_exporter": "python",
   "pygments_lexer": "ipython3",
   "version": "3.9.12"
  },
  "orig_nbformat": 4,
  "vscode": {
   "interpreter": {
    "hash": "f88891d269688cfd96a1a71bbd7ebbeba0cc9085d9975eeaa69ddab68b7452d1"
   }
  }
 },
 "nbformat": 4,
 "nbformat_minor": 2
}
